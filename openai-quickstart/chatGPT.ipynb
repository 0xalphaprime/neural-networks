{
 "cells": [
  {
   "cell_type": "code",
   "execution_count": 1,
   "metadata": {},
   "outputs": [],
   "source": [
    "import os \n",
    "import openai\n",
    "from dotenv import load_dotenv\n",
    "\n",
    "load_dotenv()\n",
    "\n",
    "openai.api_key = os.getenv(\"OPENAI_API_KEY\")\n"
   ]
  },
  {
   "cell_type": "code",
   "execution_count": 3,
   "metadata": {},
   "outputs": [
    {
     "name": "stdout",
     "output_type": "stream",
     "text": [
      "\n",
      "\n",
      "Florence, Italy is a city steeped in history and culture. It is the birthplace of the Renaissance and has been home to some of the world's most influential figures, including Dante, Michelangelo, and Leonardo da Vinci.\n",
      "\n",
      "The city was founded in 59 BC by Julius Caesar and was an important center of trade and commerce. It was also a major center of the arts and sciences, and was home to some of the most influential figures of the Renaissance.\n",
      "\n",
      "In the 14th century, Florence was the center of the powerful Medici family, who were patrons of the arts and sciences. They funded the construction of many of the city's most famous landmarks, including the Duomo, the Palazzo Vecchio, and the Uffizi Gallery.\n",
      "\n",
      "Florence was also the birthplace of the Italian Renaissance, and the city was home to some of the most influential figures of the period, including Michelangelo, Leonardo da Vinci, and\n"
     ]
    }
   ],
   "source": [
    "# v1 Completion\n",
    "\n",
    "response = openai.Completion.create(model=\"text-davinci-003\", prompt=\"write a short story about Florence, Italy summarizing its history\", temperature=0.0, max_tokens=200)\n",
    "# print(response)\n",
    "print(response['choices'][0]['text'])"
   ]
  },
  {
   "cell_type": "code",
   "execution_count": 4,
   "metadata": {},
   "outputs": [],
   "source": [
    "# v1 Chat Completion\n",
    "\n",
    "response = openai.ChatCompletion.create(\n",
    "    model=\"gpt-3.5-turbo\", \n",
    "     messages=[\n",
    "        {\"role\": \"system\", \"content\": \"You are a helpful assistant.\"}, # This is the prompt to frame the scope of the assistant's responsiblities\n",
    "        {\"role\": \"user\", \"content\": \"What time of year does the Palio di Siena horse race occur? It is typically held twice per year \"}, # this is the users first question\n",
    "    ])\n",
    "# print(response) \n",
    "print(response.choices[0].message.content)"
   ]
  },
  {
   "cell_type": "code",
   "execution_count": null,
   "metadata": {},
   "outputs": [],
   "source": []
  }
 ],
 "metadata": {
  "kernelspec": {
   "display_name": "Python 3",
   "language": "python",
   "name": "python3"
  },
  "language_info": {
   "codemirror_mode": {
    "name": "ipython",
    "version": 3
   },
   "file_extension": ".py",
   "mimetype": "text/x-python",
   "name": "python",
   "nbconvert_exporter": "python",
   "pygments_lexer": "ipython3",
   "version": "3.9.16"
  },
  "orig_nbformat": 4
 },
 "nbformat": 4,
 "nbformat_minor": 2
}
