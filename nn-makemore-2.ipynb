{
 "cells": [
  {
   "attachments": {},
   "cell_type": "markdown",
   "metadata": {},
   "source": [
    "## Makemore part 2"
   ]
  },
  {
   "attachments": {},
   "cell_type": "markdown",
   "metadata": {},
   "source": [
    "- [pytorch docs link](https://pytorch.org/docs/stable/index.html)\n",
    "- [\"A Neural Probabilistic Language Model\" by Bengio et al. (2003)](https://www.jmlr.org/papers/volume3/bengio03a/bengio03a.pdf)\n",
    "- [PyTorch internals](http://blog.ezyang.com/2019/05/pytorch-internals/)\n"
   ]
  },
  {
   "attachments": {},
   "cell_type": "markdown",
   "metadata": {},
   "source": [
    "\n",
    "The paper \"A Neural Probabilistic Language Model\" by Bengio et al. introduces a model for predicting words in a sequence of text using a neural network. The model is designed to capture the statistical patterns of word occurrence in a large corpus of text data. The approach is based on a feedforward neural network which is trained on a dataset of sequences of words.\n",
    "\n",
    "The authors explain that the probability of a word in a sequence depends on the previous words in the sequence. The model they propose provides a way to estimate this probability by considering a fixed number of the previous words as the context. This is achieved by using the neural network to learn a probability distribution over words given the context.\n",
    "\n",
    "The paper compares the proposed model with a number of traditional language models such as N-Gram and Maximum Entropy models. The results show that the proposed neural model outperforms these models in terms of perplexity, a measure of how well the model predicts the next word in a sequence.\n",
    "\n",
    "The authors also explore some limitations of their model, such as the inability to handle out-of-vocabulary words, and suggest some areas for future research including investigating the use of recurrent neural networks and larger hidden layers.\n",
    "\n",
    "Overall, the paper presents a novel approach to text prediction using a neural network that can capture the complex patterns of word occurrence in a large corpus of text and outperforms traditional language models.\n"
   ]
  },
  {
   "cell_type": "code",
   "execution_count": 128,
   "metadata": {},
   "outputs": [
    {
     "data": {
      "text/plain": [
       "'\\nwe\\'ll now go deeper into the makemore project\\nprevously we\\'ve been taking only one character, and putting it into the neural network\\nmoving forward we\\'ll increase the complexity by taking n characters, and putting them into the neural network\\n\\n\\nmulti layer perceptron model (MLP)\\n    - input layer -\\n    - hidden layer - hyperparameter (number of neurons, activation function, etc. decided by the user)\\n    - output layer - softmax function (converts the output into a probability distribution)\\n    - \"A neural Porbabilistic Language Model\" by Bengio et al. (2003)\\n    the following were prompted by copilot for further reading :\\n        - \"Efficient Estimation of Word Representations in Vector Space\" by Mikolov et al. (2013)\\n        - \"Distributed Representations of Words and Phrases and their Compositionality\" by Mikolov et al. (2013)\\n        - \"GloVe: Global Vectors for Word Representation\" by Pennington et al. (2014)\\n        - \"Neural Machine Translation by Jointly Learning to Align and Translate\" by Bahdanau et al. (2014)\\n        - \"Sequence to Sequence Learning with Neural Networks\" by Sutskever et al. (2014)\\n        - \"A Neural Conversational Model\" by Vinyals et al. (2015)\\n        - \"Attention is All You Need\" by Vaswani et al. (2017)\\n        - \"BERT: Pre-training of Deep Bidirectional Transformers for Language Understanding\" by Devlin et al. (2018)\\n        - \"Language Models are Unsupervised Multitask Learners\" by Radford et al. (2019)\\n        - \"XLNet: Generalized Autoregressive Pretraining for Language Understanding\" by Yang et al. (2019)\\n        - \"Language Models are Few-Shot Learners\" by Brown et al. (2020)\\n        - \"GPT-3: Language Models are Few-Shot Learners\" by Brown et al. (2020)\\n\\n  Neural Network with Vectors: Now imagine a neural network as a black box with an arrow \\n  (representing your input vector) going in one side and another arrow (representing your output vector) \\n  coming out the other side. Inside the box, the input vector gets multiplied by a matrix \\n  (which you can think of as a grid of numbers, or a 2-dimensional tensor), goes through an \\n  activation function (like ReLU, which sets all negative numbers to zero), and then the process \\n  might repeat with another matrix and another activation function, and so on until we reach the output.      \\n        \\n\\n'"
      ]
     },
     "execution_count": 128,
     "metadata": {},
     "output_type": "execute_result"
    }
   ],
   "source": [
    "\"\"\"\n",
    "we'll now go deeper into the makemore project\n",
    "prevously we've been taking only one character, and putting it into the neural network\n",
    "moving forward we'll increase the complexity by taking n characters, and putting them into the neural network\n",
    "\n",
    "\n",
    "multi layer perceptron model (MLP)\n",
    "    - input layer -\n",
    "    - hidden layer - hyperparameter (number of neurons, activation function, etc. decided by the user)\n",
    "    - output layer - softmax function (converts the output into a probability distribution)\n",
    "    - \"A neural Porbabilistic Language Model\" by Bengio et al. (2003)\n",
    "    the following were prompted by copilot for further reading :\n",
    "        - \"Efficient Estimation of Word Representations in Vector Space\" by Mikolov et al. (2013)\n",
    "        - \"Distributed Representations of Words and Phrases and their Compositionality\" by Mikolov et al. (2013)\n",
    "        - \"GloVe: Global Vectors for Word Representation\" by Pennington et al. (2014)\n",
    "        - \"Neural Machine Translation by Jointly Learning to Align and Translate\" by Bahdanau et al. (2014)\n",
    "        - \"Sequence to Sequence Learning with Neural Networks\" by Sutskever et al. (2014)\n",
    "        - \"A Neural Conversational Model\" by Vinyals et al. (2015)\n",
    "        - \"Attention is All You Need\" by Vaswani et al. (2017)\n",
    "        - \"BERT: Pre-training of Deep Bidirectional Transformers for Language Understanding\" by Devlin et al. (2018)\n",
    "        - \"Language Models are Unsupervised Multitask Learners\" by Radford et al. (2019)\n",
    "        - \"XLNet: Generalized Autoregressive Pretraining for Language Understanding\" by Yang et al. (2019)\n",
    "        - \"Language Models are Few-Shot Learners\" by Brown et al. (2020)\n",
    "        - \"GPT-3: Language Models are Few-Shot Learners\" by Brown et al. (2020)\n",
    "\n",
    "  Neural Network with Vectors: Now imagine a neural network as a black box with an arrow \n",
    "  (representing your input vector) going in one side and another arrow (representing your output vector) \n",
    "  coming out the other side. Inside the box, the input vector gets multiplied by a matrix \n",
    "  (which you can think of as a grid of numbers, or a 2-dimensional tensor), goes through an \n",
    "  activation function (like ReLU, which sets all negative numbers to zero), and then the process \n",
    "  might repeat with another matrix and another activation function, and so on until we reach the output.      \n",
    "        \n",
    "\n",
    "\"\"\""
   ]
  },
  {
   "cell_type": "code",
   "execution_count": 129,
   "metadata": {},
   "outputs": [],
   "source": [
    "import torch\n",
    "import torch.nn.functional as F\n",
    "import matplotlib.pyplot as plt\n",
    "%matplotlib inline"
   ]
  },
  {
   "cell_type": "code",
   "execution_count": 130,
   "metadata": {},
   "outputs": [
    {
     "data": {
      "text/plain": [
       "['emma', 'olivia', 'ava', 'isabella', 'sophia', 'charlotte', 'mia', 'amelia']"
      ]
     },
     "execution_count": 130,
     "metadata": {},
     "output_type": "execute_result"
    }
   ],
   "source": [
    "# read in all of the words, using the name.txt file in the data folder\n",
    "\n",
    "words = open('data/names.txt').read().splitlines()\n",
    "words[:8]"
   ]
  },
  {
   "cell_type": "code",
   "execution_count": 131,
   "metadata": {},
   "outputs": [
    {
     "name": "stdout",
     "output_type": "stream",
     "text": [
      "{1: 'a', 2: 'b', 3: 'c', 4: 'd', 5: 'e', 6: 'f', 7: 'g', 8: 'h', 9: 'i', 10: 'j', 11: 'k', 12: 'l', 13: 'm', 14: 'n', 15: 'o', 16: 'p', 17: 'q', 18: 'r', 19: 's', 20: 't', 21: 'u', 22: 'v', 23: 'w', 24: 'x', 25: 'y', 26: 'z', 0: '.'}\n"
     ]
    }
   ],
   "source": [
    "# build the vocabulary of characters and mappings to & from integers\n",
    "\n",
    "chars = sorted(list(set(''.join(words)))) # sorted list of unique characters\n",
    "stoi = { s:i+1 for i,s in enumerate(chars) } # string to int\n",
    "stoi['.'] = 0 # special character for end of word\n",
    "itos = { i:s for s,i in stoi.items() } # int to string\n",
    "print(itos)"
   ]
  },
  {
   "cell_type": "code",
   "execution_count": 132,
   "metadata": {},
   "outputs": [],
   "source": [
    "# build the dataset\n",
    "\n",
    "block_size = 3 # number of characters to feed into the network\n",
    "X, Y = [], [] # input and output sequences\n",
    "for w in words:\n",
    "\n",
    "    #print(w)\n",
    "    context = [0] * block_size\n",
    "    for ch in w + '.': # add end of word marker\n",
    "        ix = stoi[ch]\n",
    "        X.append(context)\n",
    "        Y.append(ix)\n",
    "        #print(''.join(itos[i] for i in context), '--->', itos[ix])\n",
    "        context = context[1:] + [ix]\n",
    "\n",
    "X = torch.tensor(X)\n",
    "Y = torch.tensor(Y)\n"
   ]
  },
  {
   "cell_type": "code",
   "execution_count": 133,
   "metadata": {},
   "outputs": [
    {
     "data": {
      "text/plain": [
       "(torch.Size([228146, 3]), torch.int64, torch.Size([228146]), torch.int64)"
      ]
     },
     "execution_count": 133,
     "metadata": {},
     "output_type": "execute_result"
    }
   ],
   "source": [
    "X.shape, X.dtype, Y.shape, Y.dtype"
   ]
  },
  {
   "cell_type": "code",
   "execution_count": 134,
   "metadata": {},
   "outputs": [
    {
     "name": "stdout",
     "output_type": "stream",
     "text": [
      "torch.Size([182625, 3]) torch.Size([182625])\n",
      "torch.Size([22655, 3]) torch.Size([22655])\n",
      "torch.Size([22866, 3]) torch.Size([22866])\n"
     ]
    }
   ],
   "source": [
    "# build a dataset function\n",
    "\n",
    "block_size = 3 # number of characters to feed into the network\n",
    "\n",
    "def build_dataset(words):\n",
    "    X, Y = [], [] # input and output sequences\n",
    "    \n",
    "    for w in words:    \n",
    "        context = [0] * block_size # start of word marker\n",
    "        for ch in w + '.': # add end of word marker\n",
    "            ix = stoi[ch] # convert character to integer\n",
    "            X.append(context) # add input sequence\n",
    "            Y.append(ix) # add output sequence\n",
    "            context = context[1:] + [ix] # shift context to the right and add the new character\n",
    "    \n",
    "    X = torch.tensor(X) # convert to tensors\n",
    "    Y = torch.tensor(Y)\n",
    "    print(X.shape, Y.shape)\n",
    "    return X, Y\n",
    "\n",
    "import random\n",
    "random.seed(42) # for reproducibility\n",
    "random.shuffle(words) # shuffle the words\n",
    "n1 = int(0.8*len(words)) # 80% train\n",
    "n2 = int(0.9*len(words)) # 10% dev\n",
    "\n",
    "Xtr, Ytr = build_dataset(words[:n1]) # build train set\n",
    "Xdev, Ydev = build_dataset(words[n1:n2]) # build dev set\n",
    "Xte, Yte = build_dataset(words[n2:]) # build test set\n",
    "# this is done to prevent the model from overfitting on the training data"
   ]
  },
  {
   "cell_type": "code",
   "execution_count": 135,
   "metadata": {},
   "outputs": [],
   "source": [
    "C = torch.randn((27, 2))"
   ]
  },
  {
   "cell_type": "code",
   "execution_count": 136,
   "metadata": {},
   "outputs": [
    {
     "data": {
      "text/plain": [
       "torch.Size([228146, 3, 2])"
      ]
     },
     "execution_count": 136,
     "metadata": {},
     "output_type": "execute_result"
    }
   ],
   "source": [
    "emb = C[X]\n",
    "emb.shape"
   ]
  },
  {
   "cell_type": "code",
   "execution_count": 137,
   "metadata": {},
   "outputs": [],
   "source": [
    "w1 = torch.randn((6, 100))\n",
    "b1 = torch.randn(100)"
   ]
  },
  {
   "cell_type": "code",
   "execution_count": 138,
   "metadata": {},
   "outputs": [],
   "source": [
    "h = torch.tanh(emb.view(-1, 6) @ w1 + b1)"
   ]
  },
  {
   "cell_type": "code",
   "execution_count": 139,
   "metadata": {},
   "outputs": [
    {
     "data": {
      "text/plain": [
       "tensor([[ 0.0541, -0.9676,  0.9999,  ..., -0.9998,  0.9958,  0.1120],\n",
       "        [-0.6359, -0.9859,  0.9998,  ..., -0.9999,  0.9937,  0.0739],\n",
       "        [-0.9999, -0.9998,  0.9896,  ..., -1.0000,  0.9604, -0.3502],\n",
       "        ...,\n",
       "        [-0.9994, -0.9953,  0.3899,  ..., -1.0000,  0.9081, -0.1141],\n",
       "        [-0.9815,  0.0914, -0.6705,  ...,  0.9968,  0.9758, -0.8618],\n",
       "        [ 0.9998, -0.9038,  0.9880,  ..., -0.9372,  0.8705,  0.9986]])"
      ]
     },
     "execution_count": 139,
     "metadata": {},
     "output_type": "execute_result"
    }
   ],
   "source": [
    "h"
   ]
  },
  {
   "cell_type": "code",
   "execution_count": 140,
   "metadata": {},
   "outputs": [
    {
     "data": {
      "text/plain": [
       "torch.Size([228146, 100])"
      ]
     },
     "execution_count": 140,
     "metadata": {},
     "output_type": "execute_result"
    }
   ],
   "source": [
    "h.shape"
   ]
  },
  {
   "cell_type": "code",
   "execution_count": 141,
   "metadata": {},
   "outputs": [],
   "source": [
    "w2 = torch.randn((100, 27))\n",
    "b2 = torch.randn(27)"
   ]
  },
  {
   "cell_type": "code",
   "execution_count": 142,
   "metadata": {},
   "outputs": [],
   "source": [
    "logits = h @ w2 + b2"
   ]
  },
  {
   "cell_type": "code",
   "execution_count": 143,
   "metadata": {},
   "outputs": [
    {
     "data": {
      "text/plain": [
       "torch.Size([228146, 27])"
      ]
     },
     "execution_count": 143,
     "metadata": {},
     "output_type": "execute_result"
    }
   ],
   "source": [
    "logits.shape"
   ]
  },
  {
   "cell_type": "code",
   "execution_count": 144,
   "metadata": {},
   "outputs": [],
   "source": [
    "counts = logits.exp()\n"
   ]
  },
  {
   "cell_type": "code",
   "execution_count": 145,
   "metadata": {},
   "outputs": [
    {
     "data": {
      "text/plain": [
       "torch.Size([228146, 27])"
      ]
     },
     "execution_count": 145,
     "metadata": {},
     "output_type": "execute_result"
    }
   ],
   "source": [
    "probs = counts / counts.sum(1, keepdim=True)  \n",
    "probs.shape  "
   ]
  },
  {
   "cell_type": "code",
   "execution_count": 146,
   "metadata": {},
   "outputs": [],
   "source": [
    "#loss = -probs[torch.arange(32), Y].log().mean()\n",
    "#loss\n",
    "\n",
    "# this isnt going to work anymore, as we changed the original loop to include more than just the first 5 names\n",
    "# see below for a cleaned up way to go through the whole dataset"
   ]
  },
  {
   "cell_type": "code",
   "execution_count": 147,
   "metadata": {},
   "outputs": [],
   "source": [
    "g = torch.Generator().manual_seed(2147483647) # used seed for reproducibility\n",
    "C = torch.randn((27, 10), generator=g) # random embeddings\n",
    "W1 = torch.randn((30, 200), generator=g) # random weights\n",
    "b1 = torch.randn(200, generator=g) # random biases\n",
    "W2 = torch.randn((200, 27), generator=g) # random weights\n",
    "b2 = torch.randn(27, generator=g) # random biases\n",
    "parameters = [C, W1, b1, W2, b2] # list of parameters"
   ]
  },
  {
   "cell_type": "code",
   "execution_count": 148,
   "metadata": {},
   "outputs": [
    {
     "data": {
      "text/plain": [
       "11897"
      ]
     },
     "execution_count": 148,
     "metadata": {},
     "output_type": "execute_result"
    }
   ],
   "source": [
    "sum(p.nelement() for p in parameters) # number of parameters"
   ]
  },
  {
   "cell_type": "code",
   "execution_count": 149,
   "metadata": {},
   "outputs": [],
   "source": [
    "for p in parameters:\n",
    "    p.requires_grad = True # enable gradients"
   ]
  },
  {
   "cell_type": "code",
   "execution_count": 150,
   "metadata": {},
   "outputs": [],
   "source": [
    "lre = torch.linspace(-3, 0, 1000) # learning rate values\n",
    "lrs = 10 ** lre # learning rate scales"
   ]
  },
  {
   "cell_type": "code",
   "execution_count": 151,
   "metadata": {},
   "outputs": [],
   "source": [
    "lri = []\n",
    "lossi = []\n",
    "stepi = []"
   ]
  },
  {
   "cell_type": "code",
   "execution_count": 152,
   "metadata": {},
   "outputs": [
    {
     "name": "stdout",
     "output_type": "stream",
     "text": [
      "1.9816190004348755\n"
     ]
    }
   ],
   "source": [
    "for i in range (200000):\n",
    "\n",
    "    # minibatch construction\n",
    "    ix = torch.randint(0, Xtr.shape[0], (32,))\n",
    "\n",
    "    # forward pass\n",
    "    emb = C[Xtr[ix]]   # embeddings\n",
    "    h = torch.tanh(emb.view(-1, 30) @ W1 + b1) # hidden layer\n",
    "    logits = h @ W2 + b2 # output layer\n",
    "    loss = F .cross_entropy(logits, Ytr[ix]) # cross-entropy loss\n",
    "\n",
    "    # backward pass\n",
    "    for p in parameters:\n",
    "        p.grad = None\n",
    "    loss.backward()\n",
    "\n",
    "    #update \n",
    "    lr = 0.1 if i < 10000 else 0.01 # learning rate\n",
    "    for p in parameters:\n",
    "        p.data += -lr * p.grad\n",
    "\n",
    "    # track stats\n",
    "    stepi.append(i)\n",
    "    lossi.append(loss.log10().item())\n",
    "\n",
    "print(loss.item())\n"
   ]
  },
  {
   "cell_type": "code",
   "execution_count": 153,
   "metadata": {},
   "outputs": [
    {
     "data": {
      "text/plain": [
       "[<matplotlib.lines.Line2D at 0x16c60bb80>]"
      ]
     },
     "execution_count": 153,
     "metadata": {},
     "output_type": "execute_result"
    },
    {
     "data": {
      "image/png": "[encoded data removed]",
      "text/plain": [
       "<Figure size 640x480 with 1 Axes>"
      ]
     },
     "metadata": {},
     "output_type": "display_data"
    }
   ],
   "source": [
    "plt.plot(stepi, lossi)"
   ]
  },
  {
   "cell_type": "code",
   "execution_count": 154,
   "metadata": {},
   "outputs": [
    {
     "data": {
      "text/plain": [
       "tensor(2.2318, grad_fn=<NllLossBackward0>)"
      ]
     },
     "execution_count": 154,
     "metadata": {},
     "output_type": "execute_result"
    }
   ],
   "source": [
    "# this shows the loss on the entire training set, just for reference\n",
    "emb = C[Xtr]   \n",
    "h = torch.tanh(emb.view(-1, 30) @ W1 + b1) # hidden layer\n",
    "logits = h @ W2 + b2 # output layer\n",
    "loss = F .cross_entropy(logits, Ytr) # cross-entropy loss\n",
    "loss"
   ]
  },
  {
   "cell_type": "code",
   "execution_count": 155,
   "metadata": {},
   "outputs": [
    {
     "data": {
      "text/plain": [
       "tensor(2.2471, grad_fn=<NllLossBackward0>)"
      ]
     },
     "execution_count": 155,
     "metadata": {},
     "output_type": "execute_result"
    }
   ],
   "source": [
    "# this shows the loss on the entire dev set, just for reference\n",
    "emb = C[Xdev] # (32, 3, 2)\n",
    "h = torch.tanh(emb.view(-1, 30) @ W1 + b1) # (32, 100)\n",
    "logits = h @ W2 + b2 # (32, 27)\n",
    "loss = F.cross_entropy(logits, Ydev)\n",
    "loss"
   ]
  },
  {
   "cell_type": "code",
   "execution_count": 156,
   "metadata": {},
   "outputs": [
    {
     "data": {
      "image/png": "[encoded data removed]",
      "text/plain": [
       "<Figure size 800x800 with 1 Axes>"
      ]
     },
     "metadata": {},
     "output_type": "display_data"
    }
   ],
   "source": [
    "# visualize dimensions 0 and 1 of the embedding matrix C for all characters\n",
    "plt.figure(figsize=(8,8))\n",
    "plt.scatter(C[:,0].data, C[:,1].data, s=200)\n",
    "for i in range(C.shape[0]):\n",
    "    plt.text(C[i,0].item(), C[i,1].item(), itos[i], ha=\"center\", va=\"center\", color='white')\n",
    "plt.grid('minor')"
   ]
  },
  {
   "cell_type": "code",
   "execution_count": 157,
   "metadata": {},
   "outputs": [
    {
     "data": {
      "text/plain": [
       "torch.Size([1, 3, 10])"
      ]
     },
     "execution_count": 157,
     "metadata": {},
     "output_type": "execute_result"
    }
   ],
   "source": [
    "context = [0] * block_size\n",
    "C[torch.tensor([context])].shape"
   ]
  },
  {
   "cell_type": "code",
   "execution_count": 161,
   "metadata": {},
   "outputs": [
    {
     "name": "stdout",
     "output_type": "stream",
     "text": [
      "annah.\n",
      "say.\n",
      "deveerhar.\n",
      "collie.\n",
      "avir.\n",
      "cammendo.\n",
      "dailonan.\n",
      "triyacarbamoniannelynna.\n",
      "ebellesh.\n",
      "et.\n",
      "zadielan.\n",
      "bo.\n",
      "ked.\n",
      "eam.\n",
      "brayna.\n",
      "shanvalan.\n",
      "casalekont.\n",
      "zeck.\n",
      "chec.\n",
      "esde.\n"
     ]
    }
   ],
   "source": [
    "# sample from the model\n",
    "\n",
    "# sample from the model\n",
    "g = torch.Generator().manual_seed(2)\n",
    "\n",
    "for _ in range(20):\n",
    "    \n",
    "    out = []\n",
    "    context = [0] * block_size # initialize with all ...\n",
    "    while True:\n",
    "      emb = C[torch.tensor([context])] # (1,block_size,d)\n",
    "      h = torch.tanh(emb.view(1, -1) @ W1 + b1)\n",
    "      logits = h @ W2 + b2\n",
    "      probs = F.softmax(logits, dim=1)\n",
    "      ix = torch.multinomial(probs, num_samples=1, generator=g).item()\n",
    "      context = context[1:] + [ix]\n",
    "      out.append(ix)\n",
    "      if ix == 0:\n",
    "        break\n",
    "    \n",
    "    print(''.join(itos[i] for i in out))"
   ]
  }
 ],
 "metadata": {
  "kernelspec": {
   "display_name": "ai-ml-050923",
   "language": "python",
   "name": "python3"
  },
  "language_info": {
   "codemirror_mode": {
    "name": "ipython",
    "version": 3
   },
   "file_extension": ".py",
   "mimetype": "text/x-python",
   "name": "python",
   "nbconvert_exporter": "python",
   "pygments_lexer": "ipython3",
   "version": "3.9.16"
  },
  "orig_nbformat": 4
 },
 "nbformat": 4,
 "nbformat_minor": 2
}
